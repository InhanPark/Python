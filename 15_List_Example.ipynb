{
 "cells": [
  {
   "cell_type": "code",
   "execution_count": null,
   "metadata": {},
   "outputs": [],
   "source": [
    "\"\"\"List 사용하는 이유 (Python 핵심 장점 중 하나)\"\"\"\n",
    "\n",
    "#Array 와 비슷하게도 보일 수 있으나, List 의 장점은\n",
    "#- 어떤 type 의 data 이던 마구 저장할 수 있다 (int, float, string ...)\n",
    "#- 필요에 따라 만들고, 없애고, 늘이고, 줄이고 할 수 있다 (heap memory 사용)\n",
    "#한종류 data 만 처리하는 경우 Array 대비 느린 단점이 있지만 (Numpy Array 쓴다)\n",
    "#대부분의 application 에서는 문제가 되지 않는 수준이다.\n",
    " \n",
    "#'오만과 편견' 책 한권의 단어들을 단 5줄의 code 로 'words' 라는 list 에 넣음\n",
    "#이렇게 만들어진 list 로 다양한 응용을 할 수 있음. 단어장 만들기 등 ...\n",
    "\n",
    "import sys\n",
    "import time\n",
    "import string\n",
    "\n",
    "start = time.time()  #핵심 루틴 시작 부분, 시간 측정 시작\n",
    "\n",
    "#이 program 에서 사용할 핵심 data structure 들\n",
    "book_name = \"./pride_and_prejudice.txt\"\n",
    "word = []  \n",
    "word_table = []\n",
    "\n",
    "#original data file 을 임시 list 에 읽어오기\n",
    "with open(book_name) as f:  #file 을 열어서\n",
    "    temp = f.read().split()  #내용을 읽어들이며 단어를 조각내어 temp list 저장\n",
    "\n",
    "#'temp' list 의 단어들을 하나씩 가져다가 정리해서 word list 에 저장\n",
    "for w in temp:  #'temp' list 의 단어들을 하나씩 가져다가\n",
    "    word += [w.strip().replace(\",\",\"\" ).replace(\".\",\"\" ).replace(\"[\",\"\" ).replace(\"]\",\"\" ).replace(\":\",\"\" ).lower()]\n",
    "    #'word' list 에 차례로 붙임\n",
    "    #붙이기 전에 단어 양쪽에 있는 공백을 없애고 (strip),\n",
    "    #, . [ ] : 등의 불필요한 문자를 지우고 (replace),\n",
    "    #마지막으로 소문자로 바꿈 (lower)     \n",
    "\n",
    "end = time.time()   #핵심 루틴 종료 부분, 시간 측정 종료\n",
    "\n",
    "print(temp[11:30])  #'temp' list 에 저장된 원래 내용\n",
    "print(word[11:30]) #'words' list 에 저장된 수정 내용\n",
    "del temp  #memory 낭비 방지를 위해 안쓰는 list 삭제\n",
    "\n",
    "print(\"list size (갯수)\", len(words))  #'words' list 의 단어 갯수\n",
    "print(\"list size (MB) \", sys.getsizeof(words)/1000000) #'words' list 가 차지하는 memory size\n",
    "print(f\"실행시간   (sec) {end - start:.5f}\") #핵심 루틴을 실행하는데 걸린 시간"
   ]
  }
 ],
 "metadata": {
  "language_info": {
   "name": "python"
  }
 },
 "nbformat": 4,
 "nbformat_minor": 2
}
