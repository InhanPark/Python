{
 "cells": [
  {
   "cell_type": "code",
   "execution_count": null,
   "metadata": {},
   "outputs": [],
   "source": [
    "\"\"\"전속 명령어가 있는 Data Structure, Class and Object\"\"\"\n",
    "#class 는 data structure 와 그것을 처리하는 전용 함수(dedicated function, method) 로 구성되어 있다.\n",
    "#class 는 list, tuple, dictionary, set (실제로 이것들도 class 이다) 처럼 선언을 해야만 memory (heap memory) 에 만들어 진다. 이렇게 memory 에 만들어진 상태를 object 라고 한다.\n",
    "#program 이 시작되었다고 무조건 list object 가 만들어 지지는 않는다. 'a = []' 와 같이 선언을 해야 만들어진다. class 이름이 'list'인 것이고, object 이름이 'a'인 것이다.\n",
    "\n",
    "#현대의 software 는 다른 사람이 만든것을 그대로 쓰는것을 최선으로 여기고, 부득이한 경우에도 내가 백지상태(scratch)에서 만드는 것보다는, 다른 사람이 만든것에 내 생각을 추가하여 만드는것을 추구한다 (모든 사람들이 더하기 프로그램만 만드는 것은 의미가 없을것이다). class 는 이런 방법을 여러가지로 제공한다.\n",
    "\n",
    "#Inheritance (상속) 변수나 함수를 그대로 가져다 쓰는 방법\n",
    "#Polymorphism (다형성) 받아들일 수 있는 data (type) 을 다양하게 하는 방법\n",
    "#Encapsulate (캡슐화) client code 가 object data 를 건드리지 못하게 함"
   ]
  },
  {
   "cell_type": "code",
   "execution_count": 15,
   "metadata": {},
   "outputs": [
    {
     "name": "stdout",
     "output_type": "stream",
     "text": [
      "Help on class Account in module account:\n",
      "\n",
      "class Account(builtins.object)\n",
      " |  Account(name, balance)\n",
      " |  \n",
      " |  Account class for maintaining a bank account balance.\n",
      " |  \n",
      " |  Methods defined here:\n",
      " |  \n",
      " |  __init__(self, name, balance)\n",
      " |      Initialize an Account object.\n",
      " |  \n",
      " |  deposit(self, amount)\n",
      " |      Deposit money to the account\n",
      " |  \n",
      " |  withdraw(self, amount)\n",
      " |      Withdraw money from the account\n",
      " |  \n",
      " |  ----------------------------------------------------------------------\n",
      " |  Data descriptors defined here:\n",
      " |  \n",
      " |  __dict__\n",
      " |      dictionary for instance variables (if defined)\n",
      " |  \n",
      " |  __weakref__\n",
      " |      list of weak references to the object (if defined)\n",
      "\n",
      "None\n",
      "Mini Mouse 70.00\n",
      "Mini Mouse -1000.00\n"
     ]
    }
   ],
   "source": [
    "\"\"\"account example\"\"\"\n",
    "from decimal import Decimal\n",
    "from account import Account\n",
    "\n",
    "# class 의 내용 확인\n",
    "print(help(Account))\n",
    "\n",
    "# class 를 'account1' 이름으로 object 만들기 (memory 에 실제로 만들어짐)\n",
    "account1 = Account('Mini Mouse', Decimal('70.00'))\n",
    "# object 를 사용하기\n",
    "print(account1.name, account1.balance) \n",
    "\n",
    "# class 의 data 를 client code 가 직접 바꿀 수 있는 문제가 있다.\n",
    "# class 의 data 는 heap 에 저장되기 떄문에 생기는 문제 (local variable 이 아님)\n",
    "account1.balance = Decimal('-1000.00')\n",
    "print(account1.name, account1.balance) "
   ]
  }
 ],
 "metadata": {
  "kernelspec": {
   "display_name": "base",
   "language": "python",
   "name": "python3"
  },
  "language_info": {
   "codemirror_mode": {
    "name": "ipython",
    "version": 3
   },
   "file_extension": ".py",
   "mimetype": "text/x-python",
   "name": "python",
   "nbconvert_exporter": "python",
   "pygments_lexer": "ipython3",
   "version": "3.7.11"
  }
 },
 "nbformat": 4,
 "nbformat_minor": 2
}
