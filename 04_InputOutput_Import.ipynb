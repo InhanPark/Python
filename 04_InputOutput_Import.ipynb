{
 "cells": [
  {
   "cell_type": "code",
   "execution_count": 1,
   "metadata": {},
   "outputs": [
    {
     "name": "stdout",
     "output_type": "stream",
     "text": [
      "11\n",
      "10\n"
     ]
    }
   ],
   "source": [
    "\"\"\"Library 사용하기\"\"\"\n",
    "\n",
    "# Python 은 자체적으로 code 를 만들기 보다는 library 를 불러서 사용하는것을 기본으로 한다.\n",
    "# libray 를 만들고 사용하기가 매우 편하게 되어있는것이 강점이다.\n",
    "\n",
    "# 사용할 library function 은 이렇게 불러서 사용하면 됨\n",
    "from math import ceil, floor\n",
    "\n",
    "print(ceil(10.3))\n",
    "print(floor(10.7))"
   ]
  },
  {
   "cell_type": "code",
   "execution_count": 2,
   "metadata": {},
   "outputs": [
    {
     "name": "stdout",
     "output_type": "stream",
     "text": [
      "2.718281828459045\n"
     ]
    }
   ],
   "source": [
    "# 사용할 것의 이름을 지정하지 않고 wildcard(*) 로 부르면 검출 안되는 error 가 생길 수 있음\n",
    "e = 'hello'\n",
    "\n",
    "from math import *\n",
    "\n",
    "print(e)\n",
    "# 'e' 를 math 내부에서 선언했기에 'hello' 대신 숫자가 나타남"
   ]
  },
  {
   "cell_type": "code",
   "execution_count": 6,
   "metadata": {},
   "outputs": [
    {
     "name": "stdout",
     "output_type": "stream",
     "text": [
      "80.6\n"
     ]
    }
   ],
   "source": [
    "# 이런식으로 library 이름의 단축어를 만들고, function 앞에 붙여주는 것이 naming 에 가장 좋은 방법임 (단 불필요한 것도 일단 부르는 문제는 있음)\n",
    "import statistics as stats\n",
    "\n",
    "grades = [85, 93, 45, 87, 93]\n",
    "\n",
    "print((stats.mean(grades)))"
   ]
  },
  {
   "cell_type": "code",
   "execution_count": 4,
   "metadata": {},
   "outputs": [
    {
     "name": "stdout",
     "output_type": "stream",
     "text": [
      "2\n",
      "1024\n",
      "안녕하세요. 저는 Helen입니다.\n"
     ]
    }
   ],
   "source": [
    "\"\"\"custom library 만들기\"\"\"\n",
    "\n",
    "# Python 에서 library 만들기는 C 대비 쉬움 (header file 이 없음)\n",
    "# 'myLib.py' 에 function 이나 class 를 만들어 test 까지하고 이렇게 불러쓰면 됨\n",
    "import myLib as mL\n",
    "\n",
    "print(mL.base)          # 모듈.변수 형식으로 모듈의 변수 사용\n",
    "print(mL.square(10))    # 모듈.함수() 형식으로 모듈의 함수 사용\n",
    "\n",
    "helen = mL.Person('Helen', 56, '수원시 권선동')\n",
    "helen.greeting()"
   ]
  }
 ],
 "metadata": {
  "kernelspec": {
   "display_name": "base",
   "language": "python",
   "name": "python3"
  },
  "language_info": {
   "codemirror_mode": {
    "name": "ipython",
    "version": 3
   },
   "file_extension": ".py",
   "mimetype": "text/x-python",
   "name": "python",
   "nbconvert_exporter": "python",
   "pygments_lexer": "ipython3",
   "version": "3.7.11"
  }
 },
 "nbformat": 4,
 "nbformat_minor": 2
}
